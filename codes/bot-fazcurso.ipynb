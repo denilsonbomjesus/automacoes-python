{
 "cells": [
  {
   "cell_type": "markdown",
   "id": "40f343e5",
   "metadata": {},
   "source": [
    "# Automoção para cursos da Fundação Bradesco"
   ]
  },
  {
   "cell_type": "code",
   "execution_count": null,
   "id": "f2b2f811",
   "metadata": {},
   "outputs": [],
   "source": [
    "from IPython.display import clear_output\n",
    "import pyautogui \n",
    "import pyperclip\n",
    "import time\n",
    "\n",
    "pyautogui.PAUSE = 1\n",
    "\n",
    "# passo 1: abrir o site da 'Escola Virtual - Fundação Bradesco'\n",
    "pyautogui.hotkey(\"ctrl\", \"t\")\n",
    "pyperclip.copy(\"https://lms.ev.org.br/mpls/Web/Portal/Main/HomeModule.aspx\")\n",
    "pyautogui.hotkey(\"ctrl\", \"v\")\n",
    "pyautogui.press(\"enter\")\n",
    "\n",
    "time.sleep(13)\n",
    "\n",
    "# passo 2: abrir o primeiro matriculado\n",
    "pyautogui.click(x=616, y=496, clicks=1)\n",
    "time.sleep(2)\n",
    "\n",
    "# passo 3: abrir o curso do primeiro modulo\n",
    "pyautogui.click(x=555, y=428, clicks=1)\n",
    "time.sleep(2)\n",
    "\n",
    "# passo 4: passar as apresentaçãoes\n",
    "x = 1\n",
    "while x <= 100: \n",
    "    pyautogui.click(x=1287, y=691, clicks=1) \n",
    "    time.sleep(1)\n",
    "    clear_output(wait=True)\n",
    "    print(x)\n",
    "    x += 1"
   ]
  },
  {
   "cell_type": "code",
   "execution_count": null,
   "id": "93353df9",
   "metadata": {},
   "outputs": [],
   "source": [
    "time.sleep(5)\n",
    "pyautogui.position()"
   ]
  },
  {
   "cell_type": "code",
   "execution_count": null,
   "id": "cdf6d53c",
   "metadata": {},
   "outputs": [],
   "source": []
  }
 ],
 "metadata": {
  "kernelspec": {
   "display_name": "Python 3 (ipykernel)",
   "language": "python",
   "name": "python3"
  },
  "language_info": {
   "codemirror_mode": {
    "name": "ipython",
    "version": 3
   },
   "file_extension": ".py",
   "mimetype": "text/x-python",
   "name": "python",
   "nbconvert_exporter": "python",
   "pygments_lexer": "ipython3",
   "version": "3.9.12"
  }
 },
 "nbformat": 4,
 "nbformat_minor": 5
}
